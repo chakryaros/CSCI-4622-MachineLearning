{
 "cells": [
  {
   "cell_type": "markdown",
   "metadata": {
    "nbgrader": {
     "grade": false,
     "grade_id": "cell-a578bca3c2053e7c",
     "locked": true,
     "schema_version": 3,
     "solution": false,
     "task": false
    }
   },
   "source": [
    "# KNN and Perceptron Homework"
   ]
  },
  {
   "cell_type": "markdown",
   "metadata": {
    "nbgrader": {
     "grade": false,
     "grade_id": "cell-bff7e2922ea0eafd",
     "locked": true,
     "schema_version": 3,
     "solution": false,
     "task": false
    }
   },
   "source": [
    "## Overview \n",
    "***\n",
    "\n",
    "\n",
    "In this homework you will implement a prototype-based k-NN and a Perceptron classifier. For the Perceptron classifier, you will implement the learning algorithm described in class.\n",
    "\n",
    "Here are the rules: \n",
    "\n",
    "- If you want to load a different Python library, you should check with the staff first (ask on Piazza).\n",
    "- Don't change function signatures / APIs. Be sure to add code only where \"your code here\" is listed. If you need additional scratch space, you can add code in the areas marked by `# scratch space`. \n",
    "- For the Math problems, you will enter your answer as a multiple choice response in a code cell block. Ensure you format your answer as described in the problem."
   ]
  },
  {
   "cell_type": "markdown",
   "metadata": {
    "nbgrader": {
     "grade": false,
     "grade_id": "cell-96fcb7d368c0971c",
     "locked": true,
     "schema_version": 3,
     "solution": false,
     "task": false
    }
   },
   "source": [
    "### Linear Algebra - 10 points\n",
    "***\n",
    "Given matrix:\n",
    "\n",
    "$$\n",
    "\\begin{equation*}\n",
    "\\mathbf{A} = \\begin{bmatrix}2 & -1 & 0\\\\-1 & 2 & -1\\\\ 0 & -1 & 2\\end{bmatrix}\n",
    "\\end{equation*}\n",
    "$$\n",
    "\n",
    "Answer the following questions:\n",
    "\n",
    "**1.** Are the vectors $\\begin{equation*} \\mathbf{x} = \\begin{bmatrix}2\\\\-1\\\\0\\end{bmatrix}, \\mathbf{y} = \\begin{bmatrix}-1 \\\\ 2 \\\\ -1\\end{bmatrix}, \\mathbf{z} = \\begin{bmatrix}0 \\\\ -1 \\\\2\\end{bmatrix} \\end{equation*}$ linearly independent? Input answer should be \"yes\" or \"no\"."
   ]
  },
  {
   "cell_type": "code",
   "execution_count": 1,
   "metadata": {
    "nbgrader": {
     "grade": false,
     "grade_id": "cell-02462d531ad133ce",
     "locked": false,
     "schema_version": 3,
     "solution": true,
     "task": false
    }
   },
   "outputs": [],
   "source": [
    "prob1_answer = \"\"\n",
    "\n",
    "### BEGIN SOLUTION\n",
    "prob1_answer = \"yes\"\n",
    "### END SOLUTION"
   ]
  },
  {
   "cell_type": "code",
   "execution_count": 2,
   "metadata": {
    "nbgrader": {
     "grade": true,
     "grade_id": "cell-f7ea97f7d7279016",
     "locked": true,
     "points": 2,
     "schema_version": 3,
     "solution": false,
     "task": false
    }
   },
   "outputs": [],
   "source": [
    "### BEGIN HIDDEN TESTS\n",
    "'''The vectors are linearly independent. This can be shown by either solving the system of linear equations $a\\mathbf{x} + b\\mathbf{y} + c\\mathbf{z} = 0$, which has only one solution: $a = b = c = 0$, or by calculating the determinant of the matrix $A$ (since the columns are linearly independent, the determinant must be nonzero).\n",
    "\n",
    "**2-point**'''\n",
    "assert(prob1_answer == \"yes\")\n",
    "### END HIDDEN TESTS"
   ]
  },
  {
   "cell_type": "markdown",
   "metadata": {
    "nbgrader": {
     "grade": false,
     "grade_id": "cell-0c099f9d448838ee",
     "locked": true,
     "schema_version": 3,
     "solution": false,
     "task": false
    }
   },
   "source": [
    "**2.** Which of the following is an eigenvector of $\\mathbf{A}$? \n",
    "\n",
    "a. $\\begin{bmatrix}1\\\\-\\sqrt{2}\\\\1\\end{bmatrix}$\n",
    "\n",
    "b. $\\begin{bmatrix}1\\\\1\\\\1\\end{bmatrix}$\n",
    "\n",
    "c. $\\begin{bmatrix}1\\\\\\sqrt{2}\\\\-1\\end{bmatrix}$\n",
    "\n",
    "d. $\\begin{bmatrix}-1\\\\0\\\\1\\end{bmatrix}$\n",
    "\n",
    "Input your answer as either `\"a\"`, `\"b\"`, `\"c\"`, or `\"d\"`."
   ]
  },
  {
   "cell_type": "code",
   "execution_count": 3,
   "metadata": {
    "nbgrader": {
     "grade": false,
     "grade_id": "cell-704e82c8d740ecec",
     "locked": false,
     "schema_version": 3,
     "solution": true,
     "task": false
    }
   },
   "outputs": [],
   "source": [
    "prob2_answer = \"\"\n",
    "\n",
    "### BEGIN SOLUTION\n",
    "prob2_answer = [\"a\". \"d\"]\n",
    "'''\n",
    "\n",
    "The problem was worded incorrectly. credit given for a,d, or a and d\n",
    "1 pt\n",
    "'''\n",
    "### END SOLUTION"
   ]
  },
  {
   "cell_type": "code",
   "execution_count": 4,
   "metadata": {
    "nbgrader": {
     "grade": true,
     "grade_id": "cell-ceb556988886af5b",
     "locked": true,
     "points": 1,
     "schema_version": 3,
     "solution": false,
     "task": false
    }
   },
   "outputs": [],
   "source": [
    "# Do not remove this cell.\n",
    "### BEGIN HIDDEN TESTS\n",
    "assert(prob2_answer == \"a\")\n",
    "### END HIDDEN TESTS"
   ]
  },
  {
   "cell_type": "markdown",
   "metadata": {
    "nbgrader": {
     "grade": false,
     "grade_id": "cell-6a3582e2aa226023",
     "locked": true,
     "schema_version": 3,
     "solution": false,
     "task": false
    }
   },
   "source": [
    "**3.** Let $M$ be any matrix with real entries. $M$ is *positive semidefinite* if, for any vector $x$ with real components, the dot product of $Mx$ and $x$ is nonnegative, $\\langle Mx, x \\rangle \\geq 0$\n",
    "\n",
    "Let $B = \\begin{bmatrix}1 & 2\\\\-2 & 1\\end{bmatrix}$. \n",
    "\n",
    "Is B positive semidefinite? Enter your answer as \"yes\" or \"no\".\n",
    "\n",
    "Hint: Write out the equation for $x^TBx$."
   ]
  },
  {
   "cell_type": "code",
   "execution_count": 5,
   "metadata": {
    "nbgrader": {
     "grade": false,
     "grade_id": "cell-142bc67b4a5e17f0",
     "locked": false,
     "schema_version": 3,
     "solution": true,
     "task": false
    }
   },
   "outputs": [],
   "source": [
    "prob3_answer = \"\"\n",
    "\n",
    "### BEGIN SOLUTION\n",
    "prob3_answer = \"yes\"\n",
    "'''\n",
    "\n",
    "You can write out the equation and it will come out to a some of squares.\n",
    "1 pt\n",
    "\n",
    "'''\n",
    "### END SOLUTION"
   ]
  },
  {
   "cell_type": "code",
   "execution_count": 6,
   "metadata": {
    "nbgrader": {
     "grade": true,
     "grade_id": "cell-22892f3974b547bb",
     "locked": true,
     "points": 1,
     "schema_version": 3,
     "solution": false,
     "task": false
    }
   },
   "outputs": [],
   "source": [
    "# Do not remove this cell.\n",
    "\n",
    "### BEGIN HIDDEN TESTS\n",
    "assert(prob3_answer == \"yes\")\n",
    "### END HIDDEN TESTS"
   ]
  },
  {
   "cell_type": "markdown",
   "metadata": {
    "nbgrader": {
     "grade": false,
     "grade_id": "cell-a17ffab84d30b0ce",
     "locked": true,
     "schema_version": 3,
     "solution": false,
     "task": false
    }
   },
   "source": [
    "**4.** A *symmetric* matrix $H$ is positive semidefinite if and only if the eigenvalues of $H$ are all non-negative. Is matrix $A$ positive semidefinite? Why?"
   ]
  },
  {
   "cell_type": "code",
   "execution_count": 7,
   "metadata": {
    "nbgrader": {
     "grade": false,
     "grade_id": "cell-3775748089655432",
     "locked": false,
     "schema_version": 3,
     "solution": true,
     "task": false
    }
   },
   "outputs": [],
   "source": [
    "prob4_answer = \"\"\n",
    "\n",
    "### BEGIN SOLUTION\n",
    "'''\n",
    "1 pt for correct answer, 1 pt for explanation (all the eigen values are non negative or something similar)\n",
    "\n",
    "'''\n",
    "prob4_answer = \"yes\"\n",
    "### END SOLUTION"
   ]
  },
  {
   "cell_type": "code",
   "execution_count": 8,
   "metadata": {
    "nbgrader": {
     "grade": true,
     "grade_id": "cell-c81519366dec2095",
     "locked": false,
     "points": 0,
     "schema_version": 3,
     "solution": true,
     "task": false
    }
   },
   "outputs": [],
   "source": [
    "# Do not remove this cell.\n",
    "\n",
    "### BEGIN HIDDEN TESTS\n",
    "assert(prob4_answer == \"yes\")\n",
    "### END HIDDEN TESTS"
   ]
  },
  {
   "cell_type": "markdown",
   "metadata": {},
   "source": [
    "$$\n",
    "\\begin{bmatrix}\n",
    "a & b & c\n",
    "\\end{bmatrix}\n",
    "*\n",
    "\\begin{bmatrix}\n",
    "    2       & -1  & 0 \\\\\n",
    "   -1       &  2  & -1 \\\\\n",
    "    0 .     & -1  & 2 & \n",
    "\\end{bmatrix}\n",
    "*\n",
    "\\begin{bmatrix}\n",
    "a\\\\\n",
    "b\\\\\n",
    "c\n",
    "\\end{bmatrix}\n",
    "$$"
   ]
  },
  {
   "cell_type": "markdown",
   "metadata": {
    "nbgrader": {
     "grade": false,
     "grade_id": "cell-a62689f6aa4e82a8",
     "locked": true,
     "schema_version": 3,
     "solution": false,
     "task": false
    }
   },
   "source": [
    "### Prototype Based K-NN - 10 points\n",
    "\n",
    "In this problem you will implement a prototype-based k-NN classifier to take an image of a handwritten digit and predict the label of the digit."
   ]
  },
  {
   "cell_type": "code",
   "execution_count": 9,
   "metadata": {
    "ExecuteTime": {
     "end_time": "2018-09-05T19:32:36.377678Z",
     "start_time": "2018-09-05T19:32:36.079433Z"
    }
   },
   "outputs": [],
   "source": [
    "import numpy as np\n",
    "import matplotlib.pylab as plt\n",
    "import pickle\n",
    "import gzip\n",
    "from sklearn.datasets import fetch_openml, load_iris\n",
    "from sklearn.neighbors import KNeighborsClassifier\n",
    "%matplotlib inline"
   ]
  },
  {
   "cell_type": "code",
   "execution_count": 10,
   "metadata": {
    "ExecuteTime": {
     "end_time": "2018-09-04T06:10:34.575570Z",
     "start_time": "2018-09-04T06:10:34.559994Z"
    },
    "nbgrader": {
     "grade": false,
     "grade_id": "cell-b3c1f222df0753de",
     "locked": true,
     "schema_version": 3,
     "solution": false,
     "task": false
    }
   },
   "outputs": [],
   "source": [
    "# This cell downloads the mnist dataset, converts the labels to numeric\n",
    "# format, and splits into train/test. Do not modify. It may take 1-2 minutes\n",
    "# if the network connection is slow.\n",
    "\n",
    "class Numbers:\n",
    "    \"\"\"\n",
    "    Class to store MNIST data\n",
    "    \"\"\"\n",
    "    def __init__(self, location):\n",
    "        # store for use later  \n",
    "        X, y = fetch_openml('mnist_784', version=1, return_X_y=True)\n",
    "        \n",
    "        # Convert the labels to numeric labels\n",
    "        labels = ['0', '1', '2', '3', '4', '5', '6', '7', '8', '9']\n",
    "        for idx, l in enumerate(labels):\n",
    "            y[y == l] = idx\n",
    "        y = y.astype(np.int32)\n",
    "            \n",
    "                        \n",
    "        self.train_x, self.train_y = X[:50000,:], y[:50000]\n",
    "\n",
    "        self.test_x, self.test_y = X[60000:,:], y[60000:]\n",
    "        \n",
    "DATA_PATH = \"mnist.pklz\"\n",
    "data = Numbers(DATA_PATH)"
   ]
  },
  {
   "cell_type": "code",
   "execution_count": 11,
   "metadata": {
    "nbgrader": {
     "grade": false,
     "grade_id": "cell-ba43f2c2431b8870",
     "locked": true,
     "schema_version": 3,
     "solution": false,
     "task": false
    }
   },
   "outputs": [],
   "source": [
    "assert(data.train_x.dtype == np.float64)\n",
    "assert(data.train_y.dtype == np.int32)"
   ]
  },
  {
   "cell_type": "markdown",
   "metadata": {
    "nbgrader": {
     "grade": false,
     "grade_id": "cell-32fcacabd487da82",
     "locked": true,
     "schema_version": 3,
     "solution": false,
     "task": false
    }
   },
   "source": [
    "The class above will load and store the MNIST data.  Run the above cells then fill in\n",
    "the code in the immediate cell below to calculate: \n",
    "- The number of examples in the training set \n",
    "- The number of examples in the test set \n",
    "- The number of pixels in each image. "
   ]
  },
  {
   "cell_type": "code",
   "execution_count": 12,
   "metadata": {
    "ExecuteTime": {
     "end_time": "2018-09-04T06:10:36.651636Z",
     "start_time": "2018-09-04T06:10:36.647115Z"
    },
    "nbgrader": {
     "grade": false,
     "grade_id": "cell-01a6cfa458f80453",
     "locked": false,
     "schema_version": 3,
     "solution": true,
     "task": false
    }
   },
   "outputs": [],
   "source": [
    "# Here are the numbers you need to provide here:\n",
    "num_training_examples = 0\n",
    "num_test_examples = 0\n",
    "pixels_per_image = 0\n",
    "\n",
    "### BEGIN SOLUTION\n",
    "num_training_examples = data.train_x.shape[0]\n",
    "num_test_examples = data.test_y.shape[0]\n",
    "pixels_per_image = np.prod(data.train_x[0,:].shape)\n",
    "### END SOLUTION"
   ]
  },
  {
   "cell_type": "code",
   "execution_count": 13,
   "metadata": {
    "ExecuteTime": {
     "end_time": "2018-09-04T06:10:36.876370Z",
     "start_time": "2018-09-04T06:10:36.687342Z"
    },
    "nbgrader": {
     "grade": true,
     "grade_id": "cell-dc58551ad175bf76",
     "locked": true,
     "points": 1,
     "schema_version": 3,
     "solution": false,
     "task": false
    }
   },
   "outputs": [
    {
     "name": "stdout",
     "output_type": "stream",
     "text": [
      "50000\n",
      "(10000,)\n",
      "(784,)\n"
     ]
    }
   ],
   "source": [
    "# Do not remove this cell.\n",
    "\n",
    "### BEGIN HIDDEN TESTS\n",
    "print(data.train_x.shape[0])\n",
    "print(data.test_y.shape)\n",
    "print(data.train_x[0].shape)\n",
    "assert(num_training_examples == 50000)\n",
    "assert(num_test_examples == 10000)\n",
    "assert(pixels_per_image == 784)\n",
    "### END HIDDEN TESTS"
   ]
  },
  {
   "cell_type": "markdown",
   "metadata": {
    "nbgrader": {
     "grade": false,
     "grade_id": "cell-09d87c308a59dd08",
     "locked": true,
     "schema_version": 3,
     "solution": false,
     "task": false
    }
   },
   "source": [
    "### Dataset Exloration\n",
    "\n",
    "In the cell below, write some code to explore the data. For example, you might plot the number of examples for each class (0-9) as a histogram. A desireable property of a dataset is for it to have a roughly balanced number of examples per class."
   ]
  },
  {
   "cell_type": "code",
   "execution_count": 14,
   "metadata": {
    "nbgrader": {
     "grade": true,
     "grade_id": "cell-11c0dfd313ba76e0",
     "locked": false,
     "points": 1,
     "schema_version": 3,
     "solution": true,
     "task": false
    }
   },
   "outputs": [],
   "source": [
    "# Write your exploration code here (scratch space)\n",
    "\n",
    "### BEGIN SOLUTION\n",
    "# Full points if student has 1-2 plots here\n",
    "### END SOLUTION"
   ]
  },
  {
   "cell_type": "markdown",
   "metadata": {
    "nbgrader": {
     "grade": false,
     "grade_id": "cell-f7e78e2af88f0c60",
     "locked": true,
     "schema_version": 3,
     "solution": false,
     "task": false
    }
   },
   "source": [
    "The cells below build a K-Nearest Neighbor classification on the handwritten digit data similar to how we explored KNN for the Iris dataset in our in-class notebooks. However, we will introduce a second parameter besides `k`. Instead of running the nearest-neighbor search on the whole dataset, which would be computationally intensive, we will select a subset of points called \"prototypes\" to conduct the nearest neighbor search. We will explore the effect of `k` and `p` on performance.\n",
    "\n",
    "Follow the prompts and implement the following functions. We provide some \"sanity check\" tests, but these tests are not exhaustive. You can write additional code to check your functions in the scratch space. Your code will be tested against other test cases which are hidden."
   ]
  },
  {
   "cell_type": "markdown",
   "metadata": {
    "nbgrader": {
     "grade": false,
     "grade_id": "cell-532e1175145d036d",
     "locked": true,
     "schema_version": 3,
     "solution": false,
     "task": false
    }
   },
   "source": [
    "1. Write the function `select_prototypes` that selects prototype examples randomly from a dataset.\n",
    "\n",
    "Hint/warning: If you use the `np.random.choice function`, be sure to inspect the `replace` argument."
   ]
  },
  {
   "cell_type": "code",
   "execution_count": 15,
   "metadata": {
    "ExecuteTime": {
     "end_time": "2018-09-04T06:10:43.207648Z",
     "start_time": "2018-09-04T06:10:43.185935Z"
    },
    "code_folding": [
     79
    ],
    "nbgrader": {
     "grade": false,
     "grade_id": "cell-790b1a66da53b47f",
     "locked": false,
     "schema_version": 3,
     "solution": true,
     "task": false
    }
   },
   "outputs": [],
   "source": [
    "def select_prototypes(X_train, y_train, num_prototypes : int):\n",
    "    '''\n",
    "    Given a matrix X_train and y_train,\n",
    "    return two matrixes X_train_proto and y_train_proto\n",
    "    that contain a subset of the data given (a subset of the rows),\n",
    "    where the subset is of size num_prototypes.\n",
    "    \n",
    "    Note that you must use the same subset indices for X_train and y_train\n",
    "    \n",
    "    Args: X_train (np.ndarray) - the dataset (training data)\n",
    "          y_train (np.ndarray) - the dataset (labels)\n",
    "          num_prototypes (int)\n",
    "          \n",
    "    Returns: \n",
    "          X_train_proto (np.ndarray) a subset of the dataset rows\n",
    "          y_train_proto (np.ndarray) a subset of the labels\n",
    "    '''\n",
    "    X_train_proto = X_train\n",
    "    y_train_proto = y_train\n",
    "    \n",
    "    ### BEGIN SOLUTION\n",
    "    indices = np.random.choice(X_train_proto.shape[0], num_prototypes, replace=False)\n",
    "    X_train_proto = X_train.take(indices, axis=0)\n",
    "    y_train_proto = y_train.take(indices, axis = 0)\n",
    "    ### END SOLUTION\n",
    "    return X_train_proto, y_train_proto\n",
    "\n",
    "# scratch space"
   ]
  },
  {
   "cell_type": "code",
   "execution_count": 16,
   "metadata": {
    "nbgrader": {
     "grade": true,
     "grade_id": "cell-ac275efff702585b",
     "locked": true,
     "points": 1,
     "schema_version": 3,
     "solution": false,
     "task": false
    }
   },
   "outputs": [],
   "source": [
    "test_X = np.array([[1,2],[3,4]])\n",
    "test_Y = np.array([1, -1])\n",
    "X_test_proto, y_test_proto = select_prototypes(test_X, test_Y, 1)\n",
    "assert( type(X_test_proto) == np.ndarray )\n",
    "assert( type(y_test_proto) == np.ndarray)\n",
    "assert( X_test_proto.shape[0] == 1)\n",
    "assert( y_test_proto.shape[0] == 1)\n",
    "\n",
    "### BEGIN HIDDEN TESTS\n",
    "'''\n",
    "-1 pt if they forgot replace=False\n",
    "'''\n",
    "### END HIDDEN TESTS"
   ]
  },
  {
   "cell_type": "markdown",
   "metadata": {
    "nbgrader": {
     "grade": false,
     "grade_id": "cell-ee6d419cf9950eb2",
     "locked": true,
     "schema_version": 3,
     "solution": false,
     "task": false
    }
   },
   "source": [
    "2. Write the build_model function, which returns a KNeighborsClassifier from Scikit-Learn. This is similar to what we did in class, except we should also use the `select_protytpes` function. \n",
    "\n",
    "For full points you must:\n",
    "\n",
    "a. **Use the select_prototypes function on the input X_train and y_train**\n",
    "\n",
    "b. **Use the ball tree algorithm for your KNeighborsClassifier**"
   ]
  },
  {
   "cell_type": "code",
   "execution_count": 17,
   "metadata": {
    "nbgrader": {
     "grade": false,
     "grade_id": "cell-37ba0fb3b8aa8721",
     "locked": false,
     "schema_version": 3,
     "solution": true,
     "task": false
    }
   },
   "outputs": [],
   "source": [
    "\n",
    "def build_model(X_train : np.ndarray, y_train : np.ndarray, \n",
    "                num_neighbors: int, num_prototypes : int):\n",
    "    '''\n",
    "    Builds and returns a KNearestClassifier model, the model \n",
    "    \n",
    "    (Use your select_prototypes function in this function)\n",
    "     \n",
    "    Args:\n",
    "        X_train: (np.ndarray) the data to fit\n",
    "        y_train: (np.ndarray) the labels\n",
    "        num_neighbors: (int) the number of nearest neighbors\n",
    "        num_prototypes: (int) the number of prototypes\n",
    "        \n",
    "    Returns:\n",
    "        knn_model - KNeighborsClassifier, fitted to the prototypes\n",
    "        X_train_proto - (np.ndarray) the new prototype data points\n",
    "        y_train_proto - (np.ndarray) the new prototype labels\n",
    "    '''\n",
    "    knn_model = None\n",
    "    X_train_proto = X_train\n",
    "    y_train_proto = y_train\n",
    "    ### BEGIN SOLUTION\n",
    "    knn_model = KNeighborsClassifier(num_neighbors, algorithm='ball_tree')\n",
    "    X_train_proto, y_train_proto = select_prototypes(X_train, y_train, num_prototypes)\n",
    "    knn_model.fit(X_train_proto, y_train_proto)\n",
    "    ### END SOLUTION\n",
    "    return knn_model, X_train_proto, y_train_proto\n",
    "\n",
    "\n",
    "# scratch space"
   ]
  },
  {
   "cell_type": "markdown",
   "metadata": {
    "nbgrader": {
     "grade": false,
     "grade_id": "cell-14632870ad87c929",
     "locked": true,
     "schema_version": 3,
     "solution": false,
     "task": false
    }
   },
   "source": [
    "3. Write the `get_confusion_matrix` function. \n",
    "\n",
    "**You must calculate the confusion matrix manually (using Numpy functions) rather than using the Scikit-Learn confusion matrix function. You will get zero-points if you use the Scikit-Learn function.**"
   ]
  },
  {
   "cell_type": "code",
   "execution_count": 18,
   "metadata": {
    "nbgrader": {
     "grade": false,
     "grade_id": "cell-02a604b62331b387",
     "locked": false,
     "schema_version": 3,
     "solution": true,
     "task": false
    }
   },
   "outputs": [],
   "source": [
    "\n",
    "def get_confusion_matrix(y_true : np.ndarray, \n",
    "                         y_predicted : np.ndarray, \n",
    "                         classes : np.ndarray):\n",
    "    '''\n",
    "    Args:\n",
    "        y_true: numpy array, true labels of the data set\n",
    "        y_predicted: numpy array, predicted labels on the same dataset as the true labels\n",
    "        classes: numpy array containing the classes (in the case of mnist, this is \n",
    "                  a vector of numbers from 0 to 9). this must be a 1-dimensional vector.\n",
    "    \n",
    "    Build the confusion matrix from scratch (without using the version\n",
    "    provided by Sk-learn)\n",
    "    \n",
    "    Returns:\n",
    "    \n",
    "        conf_matrix : (np.ndarray) the calculated confusion matrix\n",
    "    \n",
    "    \n",
    "    Hint: Easiest way is to use two nested for-loops\n",
    "    '''\n",
    "    conf_matrix = np.zeros((classes.shape[0], classes.shape[0]))\n",
    "    \n",
    "    ### BEGIN SOLUTION\n",
    "    for i in classes.tolist():\n",
    "        curr_num_mask = (y_true == i)\n",
    "        relevant_labels_true = y_true[curr_num_mask]\n",
    "        relevant_labels_predicted = y_predicted[curr_num_mask]\n",
    "        for j in classes.tolist():\n",
    "            conf_matrix[i,j] = np.sum(relevant_labels_predicted == j)\n",
    "    ### END SOLUTION\n",
    "    \n",
    "    return conf_matrix\n",
    "\n",
    "# scratch space"
   ]
  },
  {
   "cell_type": "code",
   "execution_count": 19,
   "metadata": {
    "nbgrader": {
     "grade": true,
     "grade_id": "cell-3fd5bd146b963476",
     "locked": true,
     "points": 1,
     "schema_version": 3,
     "solution": false,
     "task": false
    }
   },
   "outputs": [],
   "source": [
    "true_y = np.array([0, 0, 1, 2, 3, 4, 4])\n",
    "pred_y = np.array([0,1,1,3,3,5,5])\n",
    "classes = np.array([0,1,2,3,4,5])\n",
    "conf_matrix = get_confusion_matrix(true_y, pred_y, classes)\n",
    "\n",
    "assert(type(conf_matrix)==np.ndarray)\n",
    "assert((conf_matrix.shape[0] == conf_matrix.shape[1] == 6))\n",
    "assert(conf_matrix[5,:].sum() == 0)\n",
    "assert(conf_matrix[4,5] == 2)"
   ]
  },
  {
   "cell_type": "code",
   "execution_count": 20,
   "metadata": {
    "nbgrader": {
     "grade": false,
     "grade_id": "cell-9eed358df801cfdf",
     "locked": false,
     "schema_version": 3,
     "solution": true,
     "task": false
    }
   },
   "outputs": [],
   "source": [
    "def get_accuracy(confusion_matrix : np.ndarray):\n",
    "    '''\n",
    "    Args:\n",
    "        confusion_matrix : (np.ndarray) output of get_confusion_matrix\n",
    "    Returns:\n",
    "        The accuracy of your classifier (Numpy float)\n",
    "    '''\n",
    "    acc = 0.0\n",
    "    \n",
    "    ### BEGIN SOLUTION\n",
    "    total = confusion_matrix.sum()\n",
    "    acc = np.diag(confusion_matrix).sum()/total\n",
    "    ### END SOLUTION\n",
    "    \n",
    "    \n",
    "    return acc\n",
    "\n",
    "# Scratch space"
   ]
  },
  {
   "cell_type": "code",
   "execution_count": 21,
   "metadata": {
    "nbgrader": {
     "grade": true,
     "grade_id": "cell-236e768d1ee57b2c",
     "locked": true,
     "points": 1,
     "schema_version": 3,
     "solution": false,
     "task": false
    }
   },
   "outputs": [],
   "source": [
    "test_matrix1 = np.array([[1,0,1],[0, 2, 0], [0,0,1]])\n",
    "test_matrix2 = np.array([[0,0,0],[0,1,0], [0,0,5]])\n",
    "assert(get_accuracy(test_matrix1) == .8)\n",
    "assert(get_accuracy(test_matrix2) == 1)\n",
    "assert(type(get_accuracy(test_matrix1))==np.float64)"
   ]
  },
  {
   "cell_type": "code",
   "execution_count": 22,
   "metadata": {
    "ExecuteTime": {
     "end_time": "2018-09-04T06:10:44.049060Z",
     "start_time": "2018-09-04T06:10:43.565424Z"
    },
    "nbgrader": {
     "grade": true,
     "grade_id": "cell-4dd72ddb75bb6335",
     "locked": true,
     "points": 1,
     "schema_version": 3,
     "solution": false,
     "task": false
    }
   },
   "outputs": [
    {
     "name": "stderr",
     "output_type": "stream",
     "text": [
      "..."
     ]
    },
    {
     "name": "stdout",
     "output_type": "stream",
     "text": [
      "Nearest to [[1 5]] is [[[1 4]]], label [[1]] dist [[1.]]\n",
      "Nearest to [[0 3]] is [[[0 2]]], label [[-1]] dist [[1.]]\n",
      "Nearest to [[6 4]] is [[[5 5]]], label [[-1]] dist [[1.41421356]]\n",
      "Nearest to [[1 5]] is [[[2 5]\n",
      "  [1 4]]], label [[1 1]] dist [[1. 1.]]\n",
      "Nearest to [[0 3]] is [[[0 2]\n",
      "  [1 4]]], label [[-1  1]] dist [[1.         1.41421356]]\n",
      "Nearest to [[6 4]] is [[[5 5]\n",
      "  [4 4]]], label [[-1  1]] dist [[1.41421356 2.        ]]\n",
      "Nearest to [[1 5]] is [[[2 5]\n",
      "  [1 4]\n",
      "  [2 4]]], label [[1 1 1]] dist [[1.         1.         1.41421356]]\n",
      "Nearest to [[0 3]] is [[[0 2]\n",
      "  [1 4]\n",
      "  [2 4]]], label [[-1  1  1]] dist [[1.         1.41421356 2.23606798]]\n",
      "Nearest to [[6 4]] is [[[5 5]\n",
      "  [4 4]\n",
      "  [5 2]]], label [[-1  1 -1]] dist [[1.41421356 2.         2.23606798]]\n"
     ]
    },
    {
     "name": "stderr",
     "output_type": "stream",
     "text": [
      "\n",
      "----------------------------------------------------------------------\n",
      "Ran 3 tests in 0.014s\n",
      "\n",
      "OK\n"
     ]
    },
    {
     "data": {
      "text/plain": [
       "<unittest.runner.TextTestResult run=3 errors=0 failures=0>"
      ]
     },
     "execution_count": 22,
     "metadata": {},
     "output_type": "execute_result"
    }
   ],
   "source": [
    "# Do not delete this cell.\n",
    "\n",
    "### BEGIN HIDDEN TESTS\n",
    "import unittest\n",
    "\n",
    "class TestKnn(unittest.TestCase):\n",
    "    def setUp(self):\n",
    "        self.x = np.array([[2, 0], [4, 1], [6, 0], [1, 4], \n",
    "                           [2, 4], [2, 5], [4, 4], [0, 2], \n",
    "                           [3, 2], [4, 2], [5, 2], [5, 5]])\n",
    "        self.y = np.array([+1, +1, +1, +1, \n",
    "                           +1, +1, +1, -1, \n",
    "                           -1, -1, -1, -1])\n",
    "        self.knn = {}\n",
    "        self.proto_x = {}\n",
    "        self.proto_y = {}\n",
    "        for ii in [1, 2, 3]:\n",
    "            self.knn[ii], self.proto_x[ii], self.proto_y[ii] = build_model(self.x, self.y, ii, self.x.shape[0])\n",
    "\n",
    "        self.queries = np.array([[1, 5], [0, 3], [6, 4]])\n",
    "        self.queries = self.queries.reshape((-1, 1, 2))\n",
    "\n",
    "    def test1(self):\n",
    "        \"\"\"\n",
    "        Test 1NN\n",
    "        \"\"\"\n",
    "        ans_1 = [1, -1, -1]\n",
    "        for idx, q in enumerate(self.queries):\n",
    "            d, ind = self.knn[1].kneighbors(q)\n",
    "            print(\"Nearest to {} is {}, label {} dist {}\".format(q, self.proto_x[1][ind, :], self.proto_y[1][ind], d))\n",
    "            self.assertEqual(self.knn[1].predict(q)[0],  ans_1[idx])\n",
    "\n",
    "    def test2(self):\n",
    "        \"\"\"\n",
    "        Test 2NN\n",
    "        \"\"\"\n",
    "        ans_2 = [1, -1, -1]\n",
    "        for idx, q in enumerate(self.queries):\n",
    "            d, ind = self.knn[2].kneighbors(q)\n",
    "            print(\"Nearest to {} is {}, label {} dist {}\".format(q, self.proto_x[2][ind, :], self.proto_y[2][ind],d ))\n",
    "            self.assertEqual(self.knn[2].predict(q)[0],  ans_2[idx])\n",
    "\n",
    "    def test3(self):\n",
    "        \"\"\"\n",
    "        Test 3NN\n",
    "        \"\"\"\n",
    "        ans_3 = [1, 1 , -1]\n",
    "        for idx, q in enumerate(self.queries):\n",
    "            d, ind = self.knn[3].kneighbors(q)\n",
    "            print(\"Nearest to {} is {}, label {} dist {}\".format(q, self.proto_x[3][ind, :], self.proto_y[3][ind], d))\n",
    "            self.assertEqual(self.knn[3].predict(q)[0], ans_3[idx])\n",
    "        \n",
    "tests = TestKnn()\n",
    "tests_to_run = unittest.TestLoader().loadTestsFromModule(tests)\n",
    "unittest.TextTestRunner().run(tests_to_run)\n",
    "### END HIDDEN TESTS"
   ]
  },
  {
   "cell_type": "markdown",
   "metadata": {
    "ExecuteTime": {
     "start_time": "2018-09-02T20:12:05.295Z"
    },
    "nbgrader": {
     "grade": false,
     "grade_id": "cell-fd97b17753e34efa",
     "locked": true,
     "schema_version": 3,
     "solution": false,
     "task": false
    },
    "scrolled": false
   },
   "source": [
    "### k-NN Analysis\n",
    "\n",
    "We will now use our k-NN classifier on the MNIST dataset that we loaded above. We will explore the relationship between the test accuracy and:\n",
    "\n",
    "1. The number of training examples (before selecting prototypes)\n",
    "2. The number of nearest neighbors ($k$)\n",
    "3. The number of prototypes ($p$)\n",
    "\n"
   ]
  },
  {
   "cell_type": "markdown",
   "metadata": {
    "nbgrader": {
     "grade": false,
     "grade_id": "cell-c22e5ae584e045a9",
     "locked": true,
     "schema_version": 3,
     "solution": false,
     "task": false
    }
   },
   "source": [
    "**Part A:** Suppose we fix the number of prototypes, $p$ to be to 1000 and $k=10$. However, let us also suppose that our original dataset was a different size. Fill in the function below that repeatedly builds your model using a subset of the training data (keeping the number of prototypes fixed to be `1000`. Your subsets of the training datashould be of size 20%, 40%, 60%, 80%, and 100% (this is filled in for you).  Then, fill in the next cell to produce a plot that shows the trend exploring the performance.\n",
    "\n",
    "Note that the code builds a dictionary `performance_dict` with the following format:\n",
    "```\n",
    "{\n",
    "  [number of training examples]: [test set accuracy] (in decimal format)\n",
    "}\n",
    "```"
   ]
  },
  {
   "cell_type": "code",
   "execution_count": 23,
   "metadata": {
    "nbgrader": {
     "grade": true,
     "grade_id": "cell-a1c50580275e55fc",
     "locked": false,
     "points": 2,
     "schema_version": 3,
     "solution": true,
     "task": false
    }
   },
   "outputs": [
    {
     "name": "stdout",
     "output_type": "stream",
     "text": [
      "Building model.\n",
      "Making predictions on test set (size: (10000, 784))\n",
      "Generating confusion matrix.\n",
      "Storing results.\n",
      "k: 10, p: 500, training set size: 500, Accuracy : 81.83\n",
      "Building model.\n",
      "Making predictions on test set (size: (10000, 784))\n",
      "Generating confusion matrix.\n",
      "Storing results.\n",
      "k: 10, p: 500, training set size: 2500, Accuracy : 77.91\n",
      "Building model.\n",
      "Making predictions on test set (size: (10000, 784))\n",
      "Generating confusion matrix.\n",
      "Storing results.\n",
      "k: 10, p: 500, training set size: 5000, Accuracy : 80.83\n",
      "Building model.\n",
      "Making predictions on test set (size: (10000, 784))\n",
      "Generating confusion matrix.\n",
      "Storing results.\n",
      "k: 10, p: 500, training set size: 10000, Accuracy : 80.41\n",
      "Building model.\n",
      "Making predictions on test set (size: (10000, 784))\n",
      "Generating confusion matrix.\n",
      "Storing results.\n",
      "k: 10, p: 500, training set size: 20000, Accuracy : 82.69\n",
      "Building model.\n",
      "Making predictions on test set (size: (10000, 784))\n",
      "Generating confusion matrix.\n",
      "Storing results.\n",
      "k: 10, p: 500, training set size: 40000, Accuracy : 82.47\n",
      "Building model.\n",
      "Making predictions on test set (size: (10000, 784))\n",
      "Generating confusion matrix.\n",
      "Storing results.\n",
      "k: 10, p: 500, training set size: 50000, Accuracy : 80.16\n"
     ]
    }
   ],
   "source": [
    "training_percents = np.array([0.01, 0.05, 0.1, 0.2, 0.4, 0.8, 1.0])\n",
    "k = 10\n",
    "num_proto = 500\n",
    "performance_dict = {}\n",
    "original_size = data.train_x.shape[0] \n",
    "\n",
    "for trng_percent in training_percents:\n",
    "    ### BEGIN SOLUTION\n",
    "    # Build the model.\n",
    "    subset_size = int(trng_percent * original_size)\n",
    "    subset_x, subset_y = select_prototypes(data.train_x, data.train_y, subset_size)\n",
    "    \n",
    "    print(\"Building model.\")\n",
    "    model, x_proto, y_proto = build_model(subset_x, \n",
    "                                          subset_y, \n",
    "                                           k, num_proto)\n",
    "\n",
    "    # Make predictions on test set.\n",
    "    print(\"Making predictions on test set (size: {})\".format(data.test_x.shape))\n",
    "    pred_y = model.predict(data.test_x)\n",
    "\n",
    "    # Create confusion matrix\n",
    "    print(\"Generating confusion matrix.\")\n",
    "    confusion_matrix = get_confusion_matrix(data.test_y, pred_y, np.arange(10))\n",
    "\n",
    "    # Get accuracy\n",
    "    print(\"Storing results.\")\n",
    "    acc = get_accuracy(confusion_matrix)\n",
    "    performance_dict[trng_percent] = acc\n",
    "    ### END SOLUTION\n",
    "    \n",
    "    print (\"k: {}, p: {}, training set size: {}, Accuracy : {}\".format(k, num_proto, subset_size,\n",
    "                                                                       100 * performance_dict[trng_percent]))"
   ]
  },
  {
   "cell_type": "code",
   "execution_count": 24,
   "metadata": {
    "nbgrader": {
     "grade": true,
     "grade_id": "cell-b7bc115a7c5d28cc",
     "locked": false,
     "points": 2,
     "schema_version": 3,
     "solution": true,
     "task": false
    }
   },
   "outputs": [
    {
     "data": {
      "image/png": "[encoded data removed]",
      "text/plain": [
       "<Figure size 432x288 with 1 Axes>"
      ]
     },
     "metadata": {
      "needs_background": "light"
     },
     "output_type": "display_data"
    }
   ],
   "source": [
    "# Plot your graph exploring the relationship between the training set size and performance for k=10, p=1000.\n",
    "# Remember that the following things are required for each graph: x/y axes labels, title, legend (if multiple data \n",
    "# series)\n",
    "\n",
    "### BEGIN SOLUTION\n",
    "'''\n",
    "Plots will look different for people who did certain things at the top (ie.e. changed p to 1000 because\n",
    "of the instructions, etc.)\n",
    "\n",
    "we're reasonable in the grading for these situations, unless you did something completely wrong.\n",
    "\n",
    "We subtracted -1 pt for taking non-random subsets\n",
    "'''\n",
    "\n",
    "x_val = list(performance_dict.keys())\n",
    "x_val = [x*100 for x in x_val]\n",
    "y_val = [performance_dict[p]*100 for p in performance_dict]\n",
    "\n",
    "plt.plot(x_val, y_val)\n",
    "plt.title(\"Test Set Accuracy vs. Training Set Size, p=1000, k=10\")\n",
    "plt.xlabel(\"Training Set Percentage\")\n",
    "plt.ylabel(\"Test Set Accuracy (percent)\")\n",
    "plt.show()\n",
    "\n",
    "### END SOLUTION"
   ]
  },
  {
   "cell_type": "markdown",
   "metadata": {
    "nbgrader": {
     "grade": true,
     "grade_id": "cell-c21f0ed0cc6822a5",
     "locked": false,
     "points": 2,
     "schema_version": 3,
     "solution": true,
     "task": false
    }
   },
   "source": [
    "Write your analysis here (2-3 sentances). No more than a short paragraph.\n",
    "\n",
    "### BEGIN SOLUTION\n",
    "\n",
    "1 pt- analysis matches graph\n",
    "1 pt - explain WHY the graph looks that way (i.e. the subsets all contain enough points that drawing p prototypes still creates  a representative set of prototypes for the algorithm. The absolute variation is pretty small, indicating that the change in error rate is actually coming from the randomness of the prototypes.\n",
    "\n",
    "We are reasonable giving points where analysis looks pretty reasonable. It doesn't have to be exactly that.\n",
    "\n",
    "-1 pt if the analysis onlys describes the graph rather than explanining why. i.e. \"It goes down, then it went up, then down. Best is at about 40%\" woudl get -1pt\n",
    "\n",
    "### END SOLUTION"
   ]
  },
  {
   "cell_type": "markdown",
   "metadata": {
    "nbgrader": {
     "grade": false,
     "grade_id": "cell-35c705a873e2fd4f",
     "locked": true,
     "schema_version": 3,
     "solution": false,
     "task": false
    }
   },
   "source": [
    "**Part B:** Now suppose we use the entire training set to fit the classifier, and still fix $p=1000$. Explore the relationship between the number of nearest neighbors ($k$) and accuracy on the test set.\n",
    "\n",
    "The procedure is the same as part A: Fill in the code to build and test the models, fill in the code to plot the graph, then write your explanation/analysis."
   ]
  },
  {
   "cell_type": "code",
   "execution_count": 25,
   "metadata": {
    "nbgrader": {
     "grade": true,
     "grade_id": "cell-c9ac903b4f95624c",
     "locked": false,
     "points": 2,
     "schema_version": 3,
     "solution": true,
     "task": false
    }
   },
   "outputs": [
    {
     "name": "stdout",
     "output_type": "stream",
     "text": [
      "Building model k = 1\n",
      "Making predictions on test set (size: (10000, 784))\n",
      "Generating confusion matrix.\n",
      "Storing results.\n",
      "k: 1, p: 1000, Accuracy : 89.17\n",
      "Building model k = 5\n",
      "Making predictions on test set (size: (10000, 784))\n",
      "Generating confusion matrix.\n",
      "Storing results.\n",
      "k: 5, p: 1000, Accuracy : 88.02\n",
      "Building model k = 11\n",
      "Making predictions on test set (size: (10000, 784))\n",
      "Generating confusion matrix.\n",
      "Storing results.\n",
      "k: 11, p: 1000, Accuracy : 87.08\n",
      "Building model k = 21\n",
      "Making predictions on test set (size: (10000, 784))\n",
      "Generating confusion matrix.\n",
      "Storing results.\n",
      "k: 21, p: 1000, Accuracy : 83.41\n",
      "Building model k = 41\n",
      "Making predictions on test set (size: (10000, 784))\n",
      "Generating confusion matrix.\n",
      "Storing results.\n",
      "k: 41, p: 1000, Accuracy : 78.58000000000001\n",
      "Building model k = 81\n",
      "Making predictions on test set (size: (10000, 784))\n",
      "Generating confusion matrix.\n",
      "Storing results.\n",
      "k: 81, p: 1000, Accuracy : 68.99\n"
     ]
    }
   ],
   "source": [
    "k_vals = [1, 5, 11, 21, 41, 81]\n",
    "num_proto = 1000\n",
    "performance_dict = {}\n",
    "\n",
    "\n",
    "for k in k_vals:\n",
    "    ### BEGIN SOLUTION\n",
    "    # Build the model.\n",
    "    print(\"Building model k = {}\".format(k))\n",
    "    model, x_proto, y_proto = build_model(data.train_x, \n",
    "                                          data.train_y, \n",
    "                                           k, num_proto)\n",
    "\n",
    "    # Make predictions on test set.\n",
    "    print(\"Making predictions on test set (size: {})\".format(data.test_x.shape))\n",
    "    pred_y = model.predict(data.test_x)\n",
    "\n",
    "    # Create confusion matrix\n",
    "    print(\"Generating confusion matrix.\")\n",
    "    confusion_matrix = get_confusion_matrix(data.test_y, pred_y, np.arange(10))\n",
    "\n",
    "    # Get accuracy\n",
    "    print(\"Storing results.\")\n",
    "    acc = get_accuracy(confusion_matrix)\n",
    "    performance_dict[k] = acc\n",
    "    ### END SOLUTION\n",
    "    \n",
    "    print (\"k: {}, p: {}, Accuracy : {}\".format(k, num_proto, 100 * performance_dict[k]))"
   ]
  },
  {
   "cell_type": "code",
   "execution_count": 26,
   "metadata": {
    "nbgrader": {
     "grade": true,
     "grade_id": "cell-180233bf02c0504b",
     "locked": false,
     "points": 0,
     "schema_version": 3,
     "solution": true,
     "task": false
    }
   },
   "outputs": [
    {
     "data": {
      "image/png": "[encoded data removed]",
      "text/plain": [
       "<Figure size 432x288 with 1 Axes>"
      ]
     },
     "metadata": {
      "needs_background": "light"
     },
     "output_type": "display_data"
    }
   ],
   "source": [
    "# Plot your graph exploring the relationship between the training set size and performance for k=10, p=1000.\n",
    "# Remember that the following things are required for each graph: x/y axes labels, title, legend (if multiple data \n",
    "# series)\n",
    "\n",
    "### BEGIN SOLUTION\n",
    "\n",
    "x_val = list(performance_dict.keys())\n",
    "x_val = [x for x in x_val]\n",
    "y_val = [performance_dict[k] for k in performance_dict]\n",
    "\n",
    "plt.plot(x_val, y_val)\n",
    "plt.title(\"Test Set Accuracy vs. Training Set Size, p=1000\")\n",
    "plt.xlabel(\"Number of Nearest Neighbors (k)\")\n",
    "plt.ylabel(\"Test Set Accuracy (percent)\")\n",
    "plt.show()\n",
    "\n",
    "### END SOLUTION"
   ]
  },
  {
   "cell_type": "markdown",
   "metadata": {
    "nbgrader": {
     "grade": true,
     "grade_id": "cell-7628914743939768",
     "locked": false,
     "points": 2,
     "schema_version": 3,
     "solution": true,
     "task": false
    }
   },
   "source": [
    "Write your analysis here (2-3 sentances). No more than a short paragraph. Include in your analysis some reasoning for $k$'s effect on the trend of the graph.\n",
    "\n",
    "\n",
    "### BEGIN SOLUTION\n",
    "**Ans:** The plot reveals a small $k$ maximizes performance. Student should apply some reasoning related to how $k$ affects the decision boundary. For raw pixels in the standard euclidean norm, the first nearest neighbors are more likely to be of the same class (because often in the dataset, you can find two digits that are nearly overlapping), but further neighbors are less and less likely to have the same label relatively quickly (i.e. k >5). This is both because of our choice of feature space (it is highly likely that, for example, 1 and 7 could be very close) and a consequence of the dimensionality. There is also the roll of the prototypes in that fewer prototypes results in a less representative set, but we would still have to apply some of the above reasoning to explain why 1000 prototypes are not enough to prevent performance decrease.\n",
    "\n",
    "\n",
    "Sommon common point loss situations (not comprehensive):\n",
    "\n",
    "-1 pt if student said \"it overfits\" without explanation. Overfitting is not the best term to use here.\n",
    "\n",
    "-1 pt if student said because for 80 nearest neighbors, we are goint to far away. This doesn't explain why the graph has a downward trend from 1 to 80. \n",
    "\n",
    "Average score on this question is 1. Full points were awarded for both having a convincing answer and use of correct terminology.\n",
    "\n",
    "### END SOLUTION"
   ]
  },
  {
   "cell_type": "markdown",
   "metadata": {
    "nbgrader": {
     "grade": false,
     "grade_id": "cell-64fbb8422d401efe",
     "locked": true,
     "schema_version": 3,
     "solution": false,
     "task": false
    }
   },
   "source": [
    "**Part C**: Now we fix $k=10$ and explore the relationship between the values of $p$ and performance.\n",
    "\n",
    "The procedure is the same as part A: Fill in the code to build and test the models, fill in the code to plot the graph, then write your explanation/analysis.\n",
    "\n",
    "(Note that for your own testing, you can try arbitray list of `p_vals` below. But when you turn this notebook in, p_vals should be set to the original values:\n",
    "```\n",
    "p_vals = [10, 100, 500, 1000]\n",
    "```"
   ]
  },
  {
   "cell_type": "code",
   "execution_count": 27,
   "metadata": {
    "nbgrader": {
     "grade": true,
     "grade_id": "cell-c9ac903b4f95624c123",
     "locked": false,
     "points": 2,
     "schema_version": 3,
     "solution": true,
     "task": false
    }
   },
   "outputs": [
    {
     "name": "stdout",
     "output_type": "stream",
     "text": [
      "Building model.\n",
      "Making predictions on test set (size: (10000, 784))\n",
      "Generating confusion matrix.\n",
      "Storing results.\n",
      "k: 10, p: 10, Accuracy : 11.35\n",
      "Building model.\n",
      "Making predictions on test set (size: (10000, 784))\n",
      "Generating confusion matrix.\n",
      "Storing results.\n",
      "k: 10, p: 100, Accuracy : 58.8\n",
      "Building model.\n",
      "Making predictions on test set (size: (10000, 784))\n",
      "Generating confusion matrix.\n",
      "Storing results.\n",
      "k: 10, p: 500, Accuracy : 81.28\n",
      "Building model.\n",
      "Making predictions on test set (size: (10000, 784))\n",
      "Generating confusion matrix.\n",
      "Storing results.\n",
      "k: 10, p: 1000, Accuracy : 87.15\n"
     ]
    }
   ],
   "source": [
    "p_vals = [10, 100, 500, 1000]\n",
    "k = 10\n",
    "performance_dict = {}\n",
    "\n",
    "for num_proto in p_vals:\n",
    "    ### BEGIN SOLUTION\n",
    "    # Build the model.\n",
    "    print(\"Building model.\")\n",
    "    model, x_proto, y_proto = build_model(data.train_x, \n",
    "                                          data.train_y, \n",
    "                                           k, num_proto)\n",
    "\n",
    "    # Make predictions on test set.\n",
    "    print(\"Making predictions on test set (size: {})\".format(data.test_x.shape))\n",
    "    pred_y = model.predict(data.test_x)\n",
    "\n",
    "    # Create confusion matrix\n",
    "    print(\"Generating confusion matrix.\")\n",
    "    confusion_matrix = get_confusion_matrix(data.test_y, pred_y, np.arange(10))\n",
    "\n",
    "    # Get accuracy\n",
    "    print(\"Storing results.\")\n",
    "    acc = get_accuracy(confusion_matrix)\n",
    "    performance_dict[num_proto] = acc\n",
    "    ### END SOLUTION\n",
    "    \n",
    "    print (\"k: {}, p: {}, Accuracy : {}\".format(k, num_proto,\n",
    "            100 * performance_dict[num_proto]))"
   ]
  },
  {
   "cell_type": "code",
   "execution_count": 28,
   "metadata": {
    "nbgrader": {
     "grade": true,
     "grade_id": "cell-180233bf02c0504b33123",
     "locked": false,
     "points": 1,
     "schema_version": 3,
     "solution": true,
     "task": false
    }
   },
   "outputs": [
    {
     "name": "stdout",
     "output_type": "stream",
     "text": [
      "{10: 0.1135, 100: 0.588, 500: 0.8128, 1000: 0.8715}\n"
     ]
    },
    {
     "data": {
      "image/png": "[encoded data removed]",
      "text/plain": [
       "<Figure size 432x288 with 1 Axes>"
      ]
     },
     "metadata": {
      "needs_background": "light"
     },
     "output_type": "display_data"
    }
   ],
   "source": [
    "# Plot your graph exploring the relationship between the number of prototypes and test set performance for k=10\n",
    "\n",
    "### BEGIN SOLUTION\n",
    "print(performance_dict)\n",
    "x_val = list(performance_dict.keys())\n",
    "x_val = [x for x in x_val]\n",
    "y_val = [performance_dict[k]*100 for k in performance_dict]\n",
    "\n",
    "plt.plot(x_val, y_val)\n",
    "plt.title(\"Test Set Accuracy vs. Training Set Size, p=1000\")\n",
    "plt.xlabel(\"Number of prototypes\")\n",
    "plt.ylabel(\"Test Set Accuracy (percent)\")\n",
    "plt.show()\n",
    "\n",
    "### END SOLUTION"
   ]
  },
  {
   "cell_type": "markdown",
   "metadata": {
    "nbgrader": {
     "grade": true,
     "grade_id": "cell-7628914743939768123124233",
     "locked": false,
     "points": 1,
     "schema_version": 3,
     "solution": true,
     "task": false
    }
   },
   "source": [
    "Write your analysis here (2-3 sentances). No more than a short paragraph.\n",
    "\n",
    "Be sure to comment on any tradeoffs (between complexity, performance, etc.) if any.\n",
    "\n",
    "\n",
    "### BEGIN SOLUTION\n",
    "**Ans:** Student should comment that more prototypes increase performance, but the incrased performance comes at the cost of higher runtime complexity. They should note that increased prototypes are more likely to be more representative of the dataset. \n",
    "\n",
    "\n",
    "-1 pt for not mentioning the runtime/accuracy trade off\n",
    "### END SOLUTION"
   ]
  },
  {
   "cell_type": "markdown",
   "metadata": {},
   "source": [
    "### Perceptron - 10 points\n",
    "***\n",
    "Consider the IRIS dataset discussed in lecture. We have created a binary classification problem to determine whether a given flower is a setosa or not. To create this, we pre-processed the labels to create a label vector where setosa’s label is unchanged (i.e. its label is 1), but both versicolor and virginica are now labeled as -1. The data contains two out of the four attributes, petal width and petal length. This training data and the modified labels can be loaded using `IrisM` class. We are going to use this dataset for training a Perceptron classifier in subsequent problems. "
   ]
  },
  {
   "cell_type": "code",
   "execution_count": 29,
   "metadata": {
    "nbgrader": {
     "grade": false,
     "grade_id": "cell-250418f609834fd3",
     "locked": true,
     "schema_version": 3,
     "solution": false,
     "task": false
    }
   },
   "outputs": [],
   "source": [
    "# We are setting the PRN seed for repeatability - do not change this cell.\n",
    "np.random.seed(12345)"
   ]
  },
  {
   "cell_type": "code",
   "execution_count": 30,
   "metadata": {
    "ExecuteTime": {
     "end_time": "2018-09-05T19:32:43.557396Z",
     "start_time": "2018-09-05T19:32:43.542185Z"
    },
    "nbgrader": {
     "grade": false,
     "grade_id": "cell-b0d07b89c5ccb378",
     "locked": true,
     "schema_version": 3,
     "solution": false,
     "task": false
    }
   },
   "outputs": [],
   "source": [
    "class IrisM:\n",
    "    \"\"\"\n",
    "    Class to store modified iris data for Perceptron Training\n",
    "    \"\"\"\n",
    "    \n",
    "    def __init__(self):\n",
    "        iris = load_iris()\n",
    "        \n",
    "        # only taking first two features\n",
    "        X = iris.data[:, :2]\n",
    "        y = iris.target[:]\n",
    "        \n",
    "        # only considering whether it is setosa or not\n",
    "        y[iris.target != 0] = -1\n",
    "        y[iris.target == 0] = 1\n",
    "        mask = np.random.choice(a = [False, True], size = 150, p = (0.66, 1 - 0.66))\n",
    "        \n",
    "        self.train_x, self.train_y = X[mask], y[mask]\n",
    "        self.test_x, self.test_y = X[~mask], y[~mask]\n",
    "\n",
    "iris = IrisM()"
   ]
  },
  {
   "cell_type": "markdown",
   "metadata": {
    "nbgrader": {
     "grade": false,
     "grade_id": "cell-9bb498af66236623",
     "locked": true,
     "schema_version": 3,
     "solution": false,
     "task": false
    }
   },
   "source": [
    "The functions below implement te Perceptron classifier. Note that in our case the model is completely specified by the weight vector `theta`. We will build the model from scratch, so instead of passing around a Scikit-Learn object, we will instead return `theta` from the build_perceptron model and pass that to the prediction functions. The labels for the examples are -1 or 1. This is a simple preceptron classifier seen in class where the linear separator passes through the origin i.e has offset parameter = 0. Your tasks are as following:\n",
    "\n",
    "### Implement build_perceptron_model\n",
    "\n",
    "The first task is to implement the below method `build_perceptron_model`. It takes a matrix `train_X` of training examples (one per row) and a vector `train_y`. Note that `train_X` could have an arbitrary number of columns (you cannot assume it is the same as the number of features in `iris`. \n",
    "\n",
    "This function should perform the `perceptron` iterative training process described in class and return `theta`, the weight vector, as well as `epoch`, the total number of cycles through the data required during the training process. Break from the training loop when either:\n",
    "1. You reach 200 epochs or \n",
    "2. You cycled through the data without any misclassifications\n",
    "\n",
    "Follow the function spec. Note again, we give you some example sanity tests, but your code will be tested against other tests and looked at overall for correctness."
   ]
  },
  {
   "cell_type": "code",
   "execution_count": 31,
   "metadata": {
    "ExecuteTime": {
     "end_time": "2018-09-05T19:32:46.041101Z",
     "start_time": "2018-09-05T19:32:46.032129Z"
    },
    "nbgrader": {
     "grade": false,
     "grade_id": "cell-b3043c4f22650482",
     "locked": false,
     "schema_version": 3,
     "solution": true,
     "task": false
    }
   },
   "outputs": [],
   "source": [
    "def build_perceptron_model(train_X, train_y):\n",
    "    '''\n",
    "    Returns 'theta', the weights of the Perceptron\n",
    "    classifier.\n",
    "    \n",
    "    Args:\n",
    "        train_X: (numpy array) the training features,\n",
    "        train_y: (numpy array) the training labels\n",
    "        \n",
    "    Returns:\n",
    "        theta : (numpy array) the weight vector of the trained perceptron model\n",
    "        epochs: (int) the number of cycles through the dataset required to converge.\n",
    "    '''\n",
    "    theta = np.zeros_like(train_X[0])\n",
    "    iter_count = 0\n",
    "    epochs = 1\n",
    "    ### BEGIN SOLUTION\n",
    "    while True:\n",
    "        print(\"Starting training epoch {}\".format(epochs))\n",
    "        converged = True\n",
    "        for i in range(train_y.shape[0]):\n",
    "            dot_val = train_X[None, i, :].dot(theta.T)\n",
    "            if train_y[i]*dot_val <= 0:\n",
    "                converged = False\n",
    "                theta = theta + train_y[i]*train_X[i]\n",
    "        if(converged):\n",
    "            break\n",
    "        epochs += 1\n",
    "    ### END SOLUTION\n",
    "    return theta, epochs"
   ]
  },
  {
   "cell_type": "code",
   "execution_count": 32,
   "metadata": {
    "nbgrader": {
     "grade": true,
     "grade_id": "cell-ca542b08439f17f8",
     "locked": true,
     "points": 1,
     "schema_version": 3,
     "solution": false,
     "task": false
    }
   },
   "outputs": [
    {
     "name": "stdout",
     "output_type": "stream",
     "text": [
      "Starting training epoch 1\n",
      "Starting training epoch 2\n"
     ]
    }
   ],
   "source": [
    "# Sanity tests for build_perceptron_model\n",
    "test_x = np.array([[1, 0], [0, 1]])\n",
    "test_y = np.array([1, -1])\n",
    "test_t, test_epochs = build_perceptron_model(test_x, test_y)\n",
    "assert(test_epochs == 2)"
   ]
  },
  {
   "cell_type": "markdown",
   "metadata": {
    "nbgrader": {
     "grade": false,
     "grade_id": "cell-622db144cdd05998",
     "locked": true,
     "schema_version": 3,
     "solution": false,
     "task": false
    }
   },
   "source": [
    "### Implement the prediction/inference function\n",
    "\n",
    "Below, implement `predict_perceptron` according to the specification. Note that like the Scikit-Learn classes, your class should accept a `np.ndarray` with each row corresponding to an example. It should output a vector of predicted labels. "
   ]
  },
  {
   "cell_type": "code",
   "execution_count": 33,
   "metadata": {
    "nbgrader": {
     "grade": false,
     "grade_id": "cell-03a3733a3d2cca82",
     "locked": false,
     "schema_version": 3,
     "solution": true,
     "task": false
    }
   },
   "outputs": [],
   "source": [
    "def predict_perceptron(theta: np.ndarray, data_X : np.ndarray):\n",
    "    '''\n",
    "    Predicts the labels on the data 'data_x' \n",
    "    using a perceptron with weights defined by 'theta'\n",
    "    '''\n",
    "    predicted_y = np.zeros((data_X.shape[0]))\n",
    "    ### BEGIN SOLUTION\n",
    "    predicted_y = data_X.dot(theta)\n",
    "    predicted_y[predicted_y > 0] = 1\n",
    "    predicted_y[predicted_y <= 0]= -1\n",
    "    ### END SOLUTION\n",
    "    return predicted_y"
   ]
  },
  {
   "cell_type": "code",
   "execution_count": 34,
   "metadata": {
    "nbgrader": {
     "grade": true,
     "grade_id": "cell-d10a35977eca8d9c",
     "locked": true,
     "points": 1,
     "schema_version": 3,
     "solution": false,
     "task": false
    }
   },
   "outputs": [
    {
     "name": "stdout",
     "output_type": "stream",
     "text": [
      "Starting training epoch 1\n",
      "Starting training epoch 2\n"
     ]
    }
   ],
   "source": [
    "\n",
    "\n",
    "# Sanity tests for predict_perceptron\n",
    "test_x = np.array([[1, 0], [0, 1]])\n",
    "test_y = np.array([1, -1])\n",
    "test_valid_x = np.array(([5, 0], [0, 10]))\n",
    "test_t, test_epochs = build_perceptron_model(test_x, test_y)\n",
    "test_pred_y = predict_perceptron(test_t, test_valid_x)\n",
    "assert(test_epochs == 2)\n",
    "\n",
    "### BEGIN HIDDEN TESTS\n",
    "\n",
    "'''\n",
    "Reversing where the \"or equal to\" inequality went will cause test failure below, but is still OK\n",
    "'''\n",
    "\n",
    "### END HIDDEN TESTS"
   ]
  },
  {
   "cell_type": "markdown",
   "metadata": {
    "nbgrader": {
     "grade": false,
     "grade_id": "cell-07a3ab8231191261",
     "locked": true,
     "schema_version": 3,
     "solution": false,
     "task": false
    }
   },
   "source": [
    "### Implement the get_margin function\n",
    "\n",
    "Below, implement a function which acccepts a `theta` weight vector for the perceptron model and a set of training examples `train_X`. It should return the \"margin\" of the classifier as we defined in class. "
   ]
  },
  {
   "cell_type": "code",
   "execution_count": 52,
   "metadata": {
    "nbgrader": {
     "grade": false,
     "grade_id": "cell-bfa1c99251bd5d61",
     "locked": false,
     "schema_version": 3,
     "solution": true,
     "task": false
    }
   },
   "outputs": [],
   "source": [
    "def get_margin(theta: np.ndarray, train_X, train_y):\n",
    "    '''\n",
    "    Returns the geometric margin of the classifier on the given \n",
    "    training set. 'train_X' is assumed to be the same 'train_X'\n",
    "    used in the 'build_perceptron_model' function.\n",
    "    \n",
    "    args:\n",
    "        theta: np.ndarray: weight vector for perceptron\n",
    "        train_X: the np.ndarray representing the feature vectors. \n",
    "    '''\n",
    "    ### BEGIN SOLUTION\n",
    "    ans = np.abs(np.dot(train_X, theta))\n",
    "    assert(ans.shape[0] == train_X.shape[0])\n",
    "    return np.min(ans)/ np.linalg.norm(theta)\n",
    "    ### END SOLUTION\n",
    "    return None"
   ]
  },
  {
   "cell_type": "code",
   "execution_count": 53,
   "metadata": {
    "nbgrader": {
     "grade": true,
     "grade_id": "cell-b885f1fe338d5f50",
     "locked": true,
     "points": 1,
     "schema_version": 3,
     "solution": false,
     "task": false
    }
   },
   "outputs": [
    {
     "name": "stdout",
     "output_type": "stream",
     "text": [
      "Starting training epoch 1\n",
      "Starting training epoch 2\n",
      "0.7071067811865475\n"
     ]
    }
   ],
   "source": [
    "\n",
    "\n",
    "\n",
    "# Sanity checks for perceptron.\n",
    "# Sanity tests for predict_perceptron\n",
    "test_x = np.array([[1, 0], [0, 1]])\n",
    "test_y = np.array([1, -1])\n",
    "test_valid_x = np.array(([5, 0], [0, 10]))\n",
    "test_t, test_epochs = build_perceptron_model(test_x, test_y)\n",
    "margin = get_margin(test_t, test_x, test_y)\n",
    "print(margin)\n",
    "assert(margin < 1)\n",
    "\n",
    "\n",
    "### BEGIN HIDDEN TESTS\n",
    "\n",
    "'''\n",
    "points deducted if you had the wrong equation here (equation was given in Piazza announcement.)\n",
    "\n",
    "points were deducted either from here or the last question\n",
    "'''\n",
    "\n",
    "### END HIDDEN TESTS"
   ]
  },
  {
   "cell_type": "code",
   "execution_count": 63,
   "metadata": {
    "ExecuteTime": {
     "end_time": "2018-09-05T19:32:46.502733Z",
     "start_time": "2018-09-05T19:32:46.481827Z"
    },
    "nbgrader": {
     "grade": true,
     "grade_id": "cell-e37c3e2ebdc66804",
     "locked": true,
     "points": 2,
     "schema_version": 3,
     "solution": false,
     "task": false
    }
   },
   "outputs": [
    {
     "name": "stderr",
     "output_type": "stream",
     "text": [
      "."
     ]
    },
    {
     "name": "stdout",
     "output_type": "stream",
     "text": [
      "Starting training epoch 1\n",
      "Starting training epoch 2\n",
      "(2,)\n",
      "(4, 2)\n",
      "[ 4  3 -2  0]\n",
      "[ 1  1 -1 -1]\n"
     ]
    },
    {
     "name": "stderr",
     "output_type": "stream",
     "text": [
      "\n",
      "----------------------------------------------------------------------\n",
      "Ran 1 test in 0.002s\n",
      "\n",
      "OK\n"
     ]
    },
    {
     "data": {
      "text/plain": [
       "<unittest.runner.TextTestResult run=1 errors=0 failures=0>"
      ]
     },
     "execution_count": 63,
     "metadata": {},
     "output_type": "execute_result"
    }
   ],
   "source": [
    "# Do not remove this cell.\n",
    "\n",
    "### BEGIN HIDDEN TESTS\n",
    "import unittest\n",
    "\n",
    "class TestPerceptron(unittest.TestCase):\n",
    "    def setUp(self):\n",
    "        self.x = np.array([[1, 2], [4, 5], [2, 1], [5, 4]])\n",
    "        self.y = np.array([+1, +1, -1, -1])\n",
    "        self.p_theta, _ = build_perceptron_model(self.x, self.y)\n",
    "        self.queries = np.array([[1, 5], [0, 3], [6, 4], [2, 2]])\n",
    "\n",
    "    def test0(self):\n",
    "        \"\"\"\n",
    "        Test Perceptron\n",
    "        \"\"\"\n",
    "        print(self.p_theta.shape)\n",
    "        print(self.queries.shape)\n",
    "        est = predict_perceptron(self.p_theta, self.queries)\n",
    "        print(np.dot(self.queries, self.p_theta))\n",
    "        print(est)\n",
    "        self.assertEqual(est[0],  1)\n",
    "        self.assertEqual(est[1],  1)\n",
    "        self.assertEqual(est[2], -1)\n",
    "        self.assertEqual(est[3], -1)\n",
    "        \n",
    "tests = TestPerceptron()\n",
    "tests_to_run = unittest.TestLoader().loadTestsFromModule(tests)\n",
    "unittest.TextTestRunner().run(tests_to_run)\n",
    "\n",
    "### END HIDDEN TESTS"
   ]
  },
  {
   "cell_type": "markdown",
   "metadata": {
    "nbgrader": {
     "grade": false,
     "grade_id": "cell-d82633b75cc1fea5",
     "locked": true,
     "schema_version": 3,
     "solution": false,
     "task": false
    }
   },
   "source": [
    "### Evaluating Perceptron\n",
    "\n",
    "Now, we are going to using `IrisM` dataset to train a perceptron using `Perceptron` class.\n",
    "\n",
    "**Part A:** From class we know that this data is linearly separable but the separator does not pass through the origin. Therefore you will need to follow the technique used in lecture to further pre-process the data to be linearly separable through the origin: for each data point, add an additional feature, set to a constant value (please use the value 1 for consistency)."
   ]
  },
  {
   "cell_type": "code",
   "execution_count": 55,
   "metadata": {
    "ExecuteTime": {
     "end_time": "2018-09-07T00:04:31.354628Z",
     "start_time": "2018-09-07T00:04:31.293534Z"
    },
    "nbgrader": {
     "grade": false,
     "grade_id": "cell-a00bb959ff71ea96",
     "locked": false,
     "schema_version": 3,
     "solution": true,
     "task": false
    },
    "scrolled": true
   },
   "outputs": [],
   "source": [
    "def append_constant_feature(train_X):\n",
    "    '''\n",
    "    Takes a dataset (less labels) 'train_X' and returns a \n",
    "    modified version of the dataset with another feature set to a constant '1'\n",
    "    '''\n",
    "    modified_dataset = train_X\n",
    "    ### BEGIN SOLUTION\n",
    "    ones = np.ones((train_X.shape[0], 1))\n",
    "    modified_dataset = np.concatenate((train_X, ones), axis = 1)\n",
    "    ### END SOLUTION\n",
    "    return modified_dataset"
   ]
  },
  {
   "cell_type": "code",
   "execution_count": 56,
   "metadata": {
    "nbgrader": {
     "grade": true,
     "grade_id": "cell-6594234132565146",
     "locked": true,
     "points": 1,
     "schema_version": 3,
     "solution": false,
     "task": false
    }
   },
   "outputs": [
    {
     "name": "stdout",
     "output_type": "stream",
     "text": [
      "Starting training epoch 1\n",
      "Starting training epoch 2\n",
      "Starting training epoch 3\n",
      "Starting training epoch 4\n",
      "Starting training epoch 5\n",
      "Starting training epoch 6\n",
      "Starting training epoch 7\n",
      "Starting training epoch 8\n",
      "Starting training epoch 9\n",
      "Starting training epoch 10\n",
      "Starting training epoch 11\n",
      "Starting training epoch 12\n",
      "Starting training epoch 13\n",
      "Starting training epoch 14\n",
      "Starting training epoch 15\n",
      "Starting training epoch 16\n",
      "Starting training epoch 17\n",
      "Starting training epoch 18\n",
      "Starting training epoch 19\n",
      "Starting training epoch 20\n",
      "Starting training epoch 21\n",
      "Starting training epoch 22\n",
      "Starting training epoch 23\n",
      "Starting training epoch 24\n",
      "Starting training epoch 25\n",
      "Starting training epoch 26\n",
      "Starting training epoch 27\n",
      "Starting training epoch 28\n",
      "Starting training epoch 29\n",
      "Starting training epoch 30\n",
      "Starting training epoch 31\n",
      "Starting training epoch 32\n",
      "Starting training epoch 33\n",
      "Starting training epoch 34\n",
      "Starting training epoch 35\n",
      "Starting training epoch 36\n",
      "Starting training epoch 37\n",
      "Starting training epoch 38\n",
      "Starting training epoch 39\n",
      "Starting training epoch 40\n",
      "Starting training epoch 41\n",
      "Starting training epoch 42\n",
      "Starting training epoch 43\n",
      "Starting training epoch 44\n",
      "Starting training epoch 45\n",
      "Starting training epoch 46\n",
      "Starting training epoch 47\n",
      "Starting training epoch 48\n",
      "Starting training epoch 49\n",
      "Starting training epoch 50\n",
      "Starting training epoch 51\n",
      "Starting training epoch 52\n",
      "Starting training epoch 53\n",
      "Starting training epoch 54\n"
     ]
    }
   ],
   "source": [
    "### Sanity check (note that this will expose problems in your \n",
    "# previous functions if they can't except arbitrary number of features)\n",
    "# You should converge in less than 100 epochs.\n",
    "test_x = np.array([[0, 10], [0, 5]])\n",
    "test_y = np.array([1, -1])\n",
    "test_valid_x = np.array(([5, 0], [0, 10]))\n",
    "test_x = append_constant_feature(test_x)\n",
    "assert(test_x.shape[1] == 3)\n",
    "test_t, test_epochs = build_perceptron_model(test_x, test_y)\n",
    "assert(test_epochs < 100)"
   ]
  },
  {
   "cell_type": "markdown",
   "metadata": {
    "nbgrader": {
     "grade": false,
     "grade_id": "cell-e32ae9921dad4793",
     "locked": true,
     "schema_version": 3,
     "solution": false,
     "task": false
    }
   },
   "source": [
    "### Train Perceptron on the Iris Dataset\n",
    "\n",
    "Now that we have the ability to produce a modified dataset, train the Perceptron classifier on the iris dataset loaded in the class above. \n",
    "\n",
    "Have your code print out the number of epochs (number of times it cycled through the entire dataset) until convergence. "
   ]
  },
  {
   "cell_type": "code",
   "execution_count": 57,
   "metadata": {
    "nbgrader": {
     "grade": true,
     "grade_id": "cell-348aa0b0301abdcd",
     "locked": false,
     "points": 1,
     "schema_version": 3,
     "solution": true,
     "task": false
    }
   },
   "outputs": [
    {
     "name": "stdout",
     "output_type": "stream",
     "text": [
      "Starting training epoch 1\n",
      "Starting training epoch 2\n",
      "Starting training epoch 3\n",
      "Starting training epoch 4\n",
      "Starting training epoch 5\n",
      "Starting training epoch 6\n",
      "Starting training epoch 7\n",
      "Starting training epoch 8\n",
      "Starting training epoch 9\n",
      "Starting training epoch 10\n",
      "Starting training epoch 11\n",
      "Starting training epoch 12\n",
      "Starting training epoch 13\n",
      "Complete, number of epochs 13\n"
     ]
    }
   ],
   "source": [
    "### BEGIN SOLUTION\n",
    "iris_x = append_constant_feature(iris.train_x)\n",
    "iris_y = iris.train_y\n",
    "theta, num_epoch = build_perceptron_model(iris_x, iris_y)\n",
    "\n",
    "print(\"Complete, number of epochs {}\".format(num_epoch))\n",
    "### END SOLUTION"
   ]
  },
  {
   "cell_type": "markdown",
   "metadata": {
    "nbgrader": {
     "grade": false,
     "grade_id": "cell-90be9f188ef7f133",
     "locked": true,
     "schema_version": 3,
     "solution": false,
     "task": false
    }
   },
   "source": [
    "What is the angle between Perceptron's classification vector `theta` found above and vector $(1, 0, 1)^T$? Report your answer in radians."
   ]
  },
  {
   "cell_type": "code",
   "execution_count": 69,
   "metadata": {
    "ExecuteTime": {
     "end_time": "2018-09-05T19:35:08.940171Z",
     "start_time": "2018-09-05T19:35:08.928124Z"
    },
    "nbgrader": {
     "grade": true,
     "grade_id": "cell-9317241786fa010a",
     "locked": false,
     "points": 1,
     "schema_version": 3,
     "solution": true,
     "task": false
    }
   },
   "outputs": [
    {
     "name": "stdout",
     "output_type": "stream",
     "text": [
      "1.8275449960552022\n"
     ]
    },
    {
     "data": {
      "text/plain": [
       "'\\npoints deducted if you used np.radians at the end and changed your answer\\nto something incorrect. \\n'"
      ]
     },
     "execution_count": 69,
     "metadata": {},
     "output_type": "execute_result"
    }
   ],
   "source": [
    "### BEGIN SOLUTION\n",
    "v = np.array([1, 0, 1])\n",
    "cosang = np.dot(v, theta)\n",
    "singang = np.linalg.norm(np.cross(v, theta))\n",
    "print (np.arctan2(singang, cosang))\n",
    "### END SOLUTION\n",
    "\n",
    "'''\n",
    "points deducted if you used np.radians at the end and changed your answer\n",
    "to something incorrect. \n",
    "\n",
    "There are other formulas, e.g. arccos( dot(theta,v)/(norm(theta)*norm(v)))\n",
    "'''"
   ]
  },
  {
   "cell_type": "markdown",
   "metadata": {
    "nbgrader": {
     "grade": false,
     "grade_id": "cell-18c43270c41d8cb0",
     "locked": true,
     "schema_version": 3,
     "solution": false,
     "task": false
    }
   },
   "source": [
    "Report the accuracy on the test set. Be sure to do the same feature modifications to the test set as the training set. (Reuse the theta vector from above, don't re-fit the model in this cell.)"
   ]
  },
  {
   "cell_type": "code",
   "execution_count": 59,
   "metadata": {
    "ExecuteTime": {
     "end_time": "2018-09-05T19:33:12.282515Z",
     "start_time": "2018-09-05T19:33:12.274810Z"
    },
    "nbgrader": {
     "grade": true,
     "grade_id": "cell-38c9bab61f380dee",
     "locked": false,
     "points": 1,
     "schema_version": 3,
     "solution": true,
     "task": false
    }
   },
   "outputs": [
    {
     "name": "stdout",
     "output_type": "stream",
     "text": [
      "Accuracy: 97.89473684210526\n"
     ]
    }
   ],
   "source": [
    "### BEGIN SOLUTION\n",
    "# Full points if their accuracy is somewhere around 90%. If not, they did something wrong.\n",
    "test_x = append_constant_feature(iris.test_x)\n",
    "predict = predict_perceptron(theta, test_x)\n",
    "print(\"Accuracy:\", np.sum(predict == iris.test_y)*100 / len(iris.test_y))\n",
    "### END SOLUTION"
   ]
  },
  {
   "cell_type": "markdown",
   "metadata": {
    "nbgrader": {
     "grade": false,
     "grade_id": "cell-c1b79fbbeafc9493",
     "locked": true,
     "schema_version": 3,
     "solution": false,
     "task": false
    }
   },
   "source": [
    "Report the geometric margins of your classifier with respect to the `IrisM` dataset used. Recall that the distance of a point $x_t$ from the line/surface $\\theta^T x = 0$ is $|\\frac{\\theta^Tx_t}{||x||}|$"
   ]
  },
  {
   "cell_type": "code",
   "execution_count": 67,
   "metadata": {
    "ExecuteTime": {
     "end_time": "2018-09-05T19:35:18.991693Z",
     "start_time": "2018-09-05T19:35:18.979383Z"
    },
    "nbgrader": {
     "grade": true,
     "grade_id": "cell-07dfd22fc8aa5f1c",
     "locked": false,
     "points": 1,
     "schema_version": 3,
     "solution": true,
     "task": false
    }
   },
   "outputs": [
    {
     "data": {
      "text/plain": [
       "' Answers \\nalso accepted for reports on test or train, as it wasnt specified\\n'"
      ]
     },
     "execution_count": 67,
     "metadata": {},
     "output_type": "execute_result"
    }
   ],
   "source": [
    "### BEGIN SOLUTION\n",
    "# Full points if they report the margin\n",
    "np.abs(get_margin(theta, append_constant_feature(iris.test_x), iris.test_y))\n",
    "\n",
    "### END SOLUTION\n",
    "\n",
    "\n",
    "### BEGIN HIDDEN TESTS\n",
    "''' Answers \n",
    "also accepted for reports on test or train, as it wasnt specified\n",
    "'''\n",
    "\n",
    "### END HIDDEN TESTS"
   ]
  },
  {
   "cell_type": "code",
   "execution_count": null,
   "metadata": {},
   "outputs": [],
   "source": []
  }
 ],
 "metadata": {
  "celltoolbar": "Create Assignment",
  "kernelspec": {
   "display_name": "Python 3",
   "language": "python",
   "name": "python3"
  },
  "language_info": {
   "codemirror_mode": {
    "name": "ipython",
    "version": 3
   },
   "file_extension": ".py",
   "mimetype": "text/x-python",
   "name": "python",
   "nbconvert_exporter": "python",
   "pygments_lexer": "ipython3",
   "version": "3.7.3"
  },
  "varInspector": {
   "cols": {
    "lenName": 16,
    "lenType": 16,
    "lenVar": 40
   },
   "kernels_config": {
    "python": {
     "delete_cmd_postfix": "",
     "delete_cmd_prefix": "del ",
     "library": "var_list.py",
     "varRefreshCmd": "print(var_dic_list())"
    },
    "r": {
     "delete_cmd_postfix": ") ",
     "delete_cmd_prefix": "rm(",
     "library": "var_list.r",
     "varRefreshCmd": "cat(var_dic_list()) "
    }
   },
   "types_to_exclude": [
    "module",
    "function",
    "builtin_function_or_method",
    "instance",
    "_Feature"
   ],
   "window_display": false
  }
 },
 "nbformat": 4,
 "nbformat_minor": 2
}
